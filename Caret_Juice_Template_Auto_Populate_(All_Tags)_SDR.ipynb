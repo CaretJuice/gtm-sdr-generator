{
  "nbformat": 4,
  "nbformat_minor": 0,
  "metadata": {
    "colab": {
      "provenance": [],
      "include_colab_link": true
    },
    "kernelspec": {
      "name": "python3",
      "display_name": "Python 3"
    },
    "language_info": {
      "name": "python"
    }
  },
  "cells": [
    {
      "cell_type": "markdown",
      "metadata": {
        "id": "view-in-github",
        "colab_type": "text"
      },
      "source": [
        "<a href=\"https://colab.research.google.com/github/CaretJuice/gtm-sdr-generator/blob/main/Caret_Juice_Template_Auto_Populate_(All_Tags)_SDR.ipynb\" target=\"_parent\"><img src=\"https://colab.research.google.com/assets/colab-badge.svg\" alt=\"Open In Colab\"/></a>"
      ]
    },
    {
      "cell_type": "markdown",
      "source": [
        "To use this, you will need to make a copy of this template so that you can edit where needed.\n",
        "\n",
        "This is meant to run with a copy of the {{client name}} SDR template in Google Docs. You will need to create a sheet from that template, paste the URL of that sheet in the Variables section below and then select Run All in the Runtime dropdown in the primary navigation.\n",
        "\n",
        "You will then need to manually upload an export of your GTM container in Upload File section.\n",
        "\n",
        "Finally, you will need to give permissions for this notebook to make changes to Google Sheets in the Authenticate section.\n",
        "\n",
        "Once that is done, this notebook will populate the Tags, Triggers, and Variables sections of the SDR template with no further action on your part.\n",
        "\n",
        "This script completely replaces the text on those tabs.\n",
        "\n",
        "GTM notes get copied to the Description columns. "
      ],
      "metadata": {
        "id": "-3SFB3QhD_vv"
      }
    },
    {
      "cell_type": "markdown",
      "source": [
        "**Variables**\n",
        "\n",
        "You will need to set these variables for this iPython notebook to work."
      ],
      "metadata": {
        "id": "F3kdwIgNBmCQ"
      }
    },
    {
      "cell_type": "code",
      "source": [
        "spreadsheet = ''  # using the connect by URL method so put the full URL of the sheet that you are using for the SDR\n",
        "\n",
        "# Configure which sheet tabs to place the data; these defaults match the SDR template at time of writing\n",
        "tag_worksheet = 'Tags'\n",
        "trigger_worksheet = 'Triggers'\n",
        "variable_worksheet = 'Variables'\n",
        "\n",
        "# Number of header rows\n",
        "header_rows = 5\n",
        "\n"
      ],
      "metadata": {
        "id": "Jtz1qaHXBi4q"
      },
      "execution_count": null,
      "outputs": []
    },
    {
      "cell_type": "markdown",
      "source": [
        "**Upload File**\n",
        "\n",
        "Export the GTM Container under Admin > Export Container and upload the JSON File."
      ],
      "metadata": {
        "id": "dSQ-a-zH7API"
      }
    },
    {
      "cell_type": "code",
      "execution_count": null,
      "metadata": {
        "colab": {
          "base_uri": "https://localhost:8080/",
          "height": 73
        },
        "id": "dRHVlbzc6twz",
        "outputId": "31070323-f2e3-42c3-aca2-0ff8d5579cd2"
      },
      "outputs": [
        {
          "output_type": "display_data",
          "data": {
            "text/plain": [
              "<IPython.core.display.HTML object>"
            ],
            "text/html": [
              "\n",
              "     <input type=\"file\" id=\"files-45f52600-7f4f-4eff-85b2-54690c67b3a4\" name=\"files[]\" multiple disabled\n",
              "        style=\"border:none\" />\n",
              "     <output id=\"result-45f52600-7f4f-4eff-85b2-54690c67b3a4\">\n",
              "      Upload widget is only available when the cell has been executed in the\n",
              "      current browser session. Please rerun this cell to enable.\n",
              "      </output>\n",
              "      <script>// Copyright 2017 Google LLC\n",
              "//\n",
              "// Licensed under the Apache License, Version 2.0 (the \"License\");\n",
              "// you may not use this file except in compliance with the License.\n",
              "// You may obtain a copy of the License at\n",
              "//\n",
              "//      http://www.apache.org/licenses/LICENSE-2.0\n",
              "//\n",
              "// Unless required by applicable law or agreed to in writing, software\n",
              "// distributed under the License is distributed on an \"AS IS\" BASIS,\n",
              "// WITHOUT WARRANTIES OR CONDITIONS OF ANY KIND, either express or implied.\n",
              "// See the License for the specific language governing permissions and\n",
              "// limitations under the License.\n",
              "\n",
              "/**\n",
              " * @fileoverview Helpers for google.colab Python module.\n",
              " */\n",
              "(function(scope) {\n",
              "function span(text, styleAttributes = {}) {\n",
              "  const element = document.createElement('span');\n",
              "  element.textContent = text;\n",
              "  for (const key of Object.keys(styleAttributes)) {\n",
              "    element.style[key] = styleAttributes[key];\n",
              "  }\n",
              "  return element;\n",
              "}\n",
              "\n",
              "// Max number of bytes which will be uploaded at a time.\n",
              "const MAX_PAYLOAD_SIZE = 100 * 1024;\n",
              "\n",
              "function _uploadFiles(inputId, outputId) {\n",
              "  const steps = uploadFilesStep(inputId, outputId);\n",
              "  const outputElement = document.getElementById(outputId);\n",
              "  // Cache steps on the outputElement to make it available for the next call\n",
              "  // to uploadFilesContinue from Python.\n",
              "  outputElement.steps = steps;\n",
              "\n",
              "  return _uploadFilesContinue(outputId);\n",
              "}\n",
              "\n",
              "// This is roughly an async generator (not supported in the browser yet),\n",
              "// where there are multiple asynchronous steps and the Python side is going\n",
              "// to poll for completion of each step.\n",
              "// This uses a Promise to block the python side on completion of each step,\n",
              "// then passes the result of the previous step as the input to the next step.\n",
              "function _uploadFilesContinue(outputId) {\n",
              "  const outputElement = document.getElementById(outputId);\n",
              "  const steps = outputElement.steps;\n",
              "\n",
              "  const next = steps.next(outputElement.lastPromiseValue);\n",
              "  return Promise.resolve(next.value.promise).then((value) => {\n",
              "    // Cache the last promise value to make it available to the next\n",
              "    // step of the generator.\n",
              "    outputElement.lastPromiseValue = value;\n",
              "    return next.value.response;\n",
              "  });\n",
              "}\n",
              "\n",
              "/**\n",
              " * Generator function which is called between each async step of the upload\n",
              " * process.\n",
              " * @param {string} inputId Element ID of the input file picker element.\n",
              " * @param {string} outputId Element ID of the output display.\n",
              " * @return {!Iterable<!Object>} Iterable of next steps.\n",
              " */\n",
              "function* uploadFilesStep(inputId, outputId) {\n",
              "  const inputElement = document.getElementById(inputId);\n",
              "  inputElement.disabled = false;\n",
              "\n",
              "  const outputElement = document.getElementById(outputId);\n",
              "  outputElement.innerHTML = '';\n",
              "\n",
              "  const pickedPromise = new Promise((resolve) => {\n",
              "    inputElement.addEventListener('change', (e) => {\n",
              "      resolve(e.target.files);\n",
              "    });\n",
              "  });\n",
              "\n",
              "  const cancel = document.createElement('button');\n",
              "  inputElement.parentElement.appendChild(cancel);\n",
              "  cancel.textContent = 'Cancel upload';\n",
              "  const cancelPromise = new Promise((resolve) => {\n",
              "    cancel.onclick = () => {\n",
              "      resolve(null);\n",
              "    };\n",
              "  });\n",
              "\n",
              "  // Wait for the user to pick the files.\n",
              "  const files = yield {\n",
              "    promise: Promise.race([pickedPromise, cancelPromise]),\n",
              "    response: {\n",
              "      action: 'starting',\n",
              "    }\n",
              "  };\n",
              "\n",
              "  cancel.remove();\n",
              "\n",
              "  // Disable the input element since further picks are not allowed.\n",
              "  inputElement.disabled = true;\n",
              "\n",
              "  if (!files) {\n",
              "    return {\n",
              "      response: {\n",
              "        action: 'complete',\n",
              "      }\n",
              "    };\n",
              "  }\n",
              "\n",
              "  for (const file of files) {\n",
              "    const li = document.createElement('li');\n",
              "    li.append(span(file.name, {fontWeight: 'bold'}));\n",
              "    li.append(span(\n",
              "        `(${file.type || 'n/a'}) - ${file.size} bytes, ` +\n",
              "        `last modified: ${\n",
              "            file.lastModifiedDate ? file.lastModifiedDate.toLocaleDateString() :\n",
              "                                    'n/a'} - `));\n",
              "    const percent = span('0% done');\n",
              "    li.appendChild(percent);\n",
              "\n",
              "    outputElement.appendChild(li);\n",
              "\n",
              "    const fileDataPromise = new Promise((resolve) => {\n",
              "      const reader = new FileReader();\n",
              "      reader.onload = (e) => {\n",
              "        resolve(e.target.result);\n",
              "      };\n",
              "      reader.readAsArrayBuffer(file);\n",
              "    });\n",
              "    // Wait for the data to be ready.\n",
              "    let fileData = yield {\n",
              "      promise: fileDataPromise,\n",
              "      response: {\n",
              "        action: 'continue',\n",
              "      }\n",
              "    };\n",
              "\n",
              "    // Use a chunked sending to avoid message size limits. See b/62115660.\n",
              "    let position = 0;\n",
              "    do {\n",
              "      const length = Math.min(fileData.byteLength - position, MAX_PAYLOAD_SIZE);\n",
              "      const chunk = new Uint8Array(fileData, position, length);\n",
              "      position += length;\n",
              "\n",
              "      const base64 = btoa(String.fromCharCode.apply(null, chunk));\n",
              "      yield {\n",
              "        response: {\n",
              "          action: 'append',\n",
              "          file: file.name,\n",
              "          data: base64,\n",
              "        },\n",
              "      };\n",
              "\n",
              "      let percentDone = fileData.byteLength === 0 ?\n",
              "          100 :\n",
              "          Math.round((position / fileData.byteLength) * 100);\n",
              "      percent.textContent = `${percentDone}% done`;\n",
              "\n",
              "    } while (position < fileData.byteLength);\n",
              "  }\n",
              "\n",
              "  // All done.\n",
              "  yield {\n",
              "    response: {\n",
              "      action: 'complete',\n",
              "    }\n",
              "  };\n",
              "}\n",
              "\n",
              "scope.google = scope.google || {};\n",
              "scope.google.colab = scope.google.colab || {};\n",
              "scope.google.colab._files = {\n",
              "  _uploadFiles,\n",
              "  _uploadFilesContinue,\n",
              "};\n",
              "})(self);\n",
              "</script> "
            ]
          },
          "metadata": {}
        },
        {
          "output_type": "stream",
          "name": "stdout",
          "text": [
            "Saving GTM-DGXW_v278.json to GTM-DGXW_v278.json\n"
          ]
        }
      ],
      "source": [
        "from google.colab import files\n",
        "uploaded = files.upload()"
      ]
    },
    {
      "cell_type": "markdown",
      "source": [
        "**Authenticate**\n",
        "\n",
        "This will open a new window where you need to log in to Google Accounts, give this Colab permission to access Drive, copy the key that gets generated after giving permission, and finally paste that key back here and complete the authentication.\n",
        "\n",
        "*2022-04-19: Updated authentication method*"
      ],
      "metadata": {
        "id": "7QmdTaXEM2hr"
      }
    },
    {
      "cell_type": "code",
      "source": [
        "# authenticate\n",
        "from google.colab import auth\n",
        "auth.authenticate_user()\n",
        "\n",
        "import gspread\n",
        "from google.auth import default\n",
        "creds, _ = default()\n",
        "\n",
        "gc = gspread.authorize(creds)"
      ],
      "metadata": {
        "id": "3nsT00AI7fTy"
      },
      "execution_count": null,
      "outputs": []
    },
    {
      "cell_type": "markdown",
      "source": [
        "**Utilities** \n",
        "\n",
        "Utility functions that we are going to re-use later."
      ],
      "metadata": {
        "id": "LgnsCCdvDmrZ"
      }
    },
    {
      "cell_type": "code",
      "source": [
        "%%capture\n",
        "!pip install -U 'fsspec[s3]'\n",
        "\n",
        "import json\n",
        "import pandas as pd\n",
        "from datetime import datetime\n",
        "import re\n",
        "\n",
        "uploaded_json = list(uploaded.values())[0]\n",
        "container = json.loads(uploaded_json.decode('utf-8'))\n",
        "\n",
        "json_tags = container['containerVersion']['tag']\n",
        "json_triggers = container['containerVersion']['trigger']\n",
        "json_folders = container['containerVersion']['folder']\n",
        "json_variables = container['containerVersion']['variable']\n",
        "\n",
        "def trigger_lookup(trigger_id_list):\n",
        "  triggers = ''\n",
        "  for trigger in json_triggers:\n",
        "    for id in trigger_id_list:\n",
        "      if id == trigger['triggerId']:\n",
        "        triggers = triggers + trigger['name'] + ';'\n",
        "  return triggers[:-1] #remove the last semi-colon\n",
        "\n",
        "def folder_lookup(folder_id):\n",
        "  name = 'not found'\n",
        "  for folder in json_folders:\n",
        "    if folder['folderId'] == folder_id:\n",
        "      name = folder['name']\n",
        "  return name\n",
        "\n",
        "def list_tags_matching_trigger(trigger_type, trigger_id):\n",
        "  tags = ''\n",
        "  for tag in json_tags:\n",
        "    if trigger_type in tag:\n",
        "      if trigger_id in tag[trigger_type]: \n",
        "        tags = tags + tag['name'] + '; '\n",
        "  return tags[:-2]\n",
        "\n",
        "\n",
        "def timestamp_from_fingerprint(fingerprint):\n",
        "  ts = datetime.fromtimestamp(int(fingerprint[:-3] ))\n",
        "  return ts\n",
        "\n",
        "def is_ga4_trigger( trigger_id ):\n",
        "  is_ga4 = False\n",
        "  for tag in json_tags:\n",
        "    if (tag['type'] == 'gaawe' and trigger_id in tag['firingTriggerId']):\n",
        "      is_ga4 = True \n",
        "  return is_ga4\n",
        "\n",
        "def is_ga4_var( variable_name ):\n",
        "  is_ga4 = False\n",
        "  pattern = \"{{\" + variable_name + \"}}\"\n",
        "  for tag in json_tags:\n",
        "    if (tag['type'] == 'gaawe' and re.search(pattern, json.dumps(tag))):\n",
        "      is_ga4 = True \n",
        "  return is_ga4\n",
        "\n",
        "# do not use\n",
        "def container_lookup(container_id):\n",
        "  json_containers =  container['containerVersion']\n",
        "  for container in json_containers:\n",
        "    if container['containerId'] ==  container_id:\n",
        "      return container['name']\n",
        "    else:\n",
        "      return container['containerId']"
      ],
      "metadata": {
        "id": "K2j_SYEGDlaf"
      },
      "execution_count": null,
      "outputs": []
    },
    {
      "cell_type": "markdown",
      "source": [
        "**Parse the Tags**\n",
        "\n",
        "Drill down into the tag section of the JSON export. For each tag, find the values that correspond to the various columns in the spreadsheet.\n",
        "\n",
        "Save the tag data to a dataframe and list the first five entries."
      ],
      "metadata": {
        "id": "GdjnNZ5N7Jh_"
      }
    },
    {
      "cell_type": "code",
      "source": [
        "tags = []\n",
        "\n",
        "for tag in json_tags:\n",
        "  row = {}\n",
        "  row['ID'] = str(tag['tagId'])\n",
        "  row['Name'] = str(tag['name'])\n",
        "  row['Event Name'] = ''\n",
        "  if 'parameter' in tag:\n",
        "    for parameter in tag['parameter']:\n",
        "      if (parameter['key'] == 'eventName' and 'value' in parameter):\n",
        "        row['Event Name'] = parameter['value']\n",
        "  row['Type'] =  str(tag['type'])\n",
        "  if 'firingTriggerId' in tag:\n",
        "    row['Firing Triggers'] = trigger_lookup(tag['firingTriggerId'])\n",
        "  else: \n",
        "    row['Firing Triggers'] = 'none'\n",
        "  if 'blockingTriggerId' in tag:\n",
        "    row['Blocking Triggers'] =  trigger_lookup(tag['blockingTriggerId'])\n",
        "  else: \n",
        "    row['Blocking Triggers'] = 'none'\n",
        "  if 'parentFolderId' in tag:\n",
        "    row['Parent Folder'] = folder_lookup(tag['parentFolderId'])\n",
        "  else: \n",
        "    row['Parent Folder'] = 'none'\n",
        "  row['Last Edit'] = timestamp_from_fingerprint(tag['fingerprint'])\n",
        "  if 'paused' in tag:\n",
        "    row['Paused'] = 'true'\n",
        "  else: \n",
        "    row['Paused'] = 'false'\n",
        "  row['Container'] = tag['containerId']\n",
        "  row['Action'] = 'Review' # resetting the Action column because tags unlikely to match\n",
        "  if 'notes' in tag:\n",
        "    row['Description'] = tag['notes']\n",
        "  else:\n",
        "    row['Description'] = \"\"\n",
        "\n",
        "  tags.append(row)\n",
        "\n",
        "tag_data = pd.DataFrame(tags)\n",
        "tag_data.head()"
      ],
      "metadata": {
        "id": "a64bnsYddP7u",
        "colab": {
          "base_uri": "https://localhost:8080/",
          "height": 243
        },
        "outputId": "59e03572-ec84-4cfa-e385-cacfb0883066"
      },
      "execution_count": null,
      "outputs": [
        {
          "output_type": "error",
          "ename": "NameError",
          "evalue": "ignored",
          "traceback": [
            "\u001b[0;31m---------------------------------------------------------------------------\u001b[0m",
            "\u001b[0;31mNameError\u001b[0m                                 Traceback (most recent call last)",
            "\u001b[0;32m<ipython-input-1-9967d719d5ce>\u001b[0m in \u001b[0;36m<cell line: 3>\u001b[0;34m()\u001b[0m\n\u001b[1;32m      1\u001b[0m \u001b[0mtags\u001b[0m \u001b[0;34m=\u001b[0m \u001b[0;34m[\u001b[0m\u001b[0;34m]\u001b[0m\u001b[0;34m\u001b[0m\u001b[0;34m\u001b[0m\u001b[0m\n\u001b[1;32m      2\u001b[0m \u001b[0;34m\u001b[0m\u001b[0m\n\u001b[0;32m----> 3\u001b[0;31m \u001b[0;32mfor\u001b[0m \u001b[0mtag\u001b[0m \u001b[0;32min\u001b[0m \u001b[0mjson_tags\u001b[0m\u001b[0;34m:\u001b[0m\u001b[0;34m\u001b[0m\u001b[0;34m\u001b[0m\u001b[0m\n\u001b[0m\u001b[1;32m      4\u001b[0m   \u001b[0mrow\u001b[0m \u001b[0;34m=\u001b[0m \u001b[0;34m{\u001b[0m\u001b[0;34m}\u001b[0m\u001b[0;34m\u001b[0m\u001b[0;34m\u001b[0m\u001b[0m\n\u001b[1;32m      5\u001b[0m   \u001b[0mrow\u001b[0m\u001b[0;34m[\u001b[0m\u001b[0;34m'ID'\u001b[0m\u001b[0;34m]\u001b[0m \u001b[0;34m=\u001b[0m \u001b[0mstr\u001b[0m\u001b[0;34m(\u001b[0m\u001b[0mtag\u001b[0m\u001b[0;34m[\u001b[0m\u001b[0;34m'tagId'\u001b[0m\u001b[0;34m]\u001b[0m\u001b[0;34m)\u001b[0m\u001b[0;34m\u001b[0m\u001b[0;34m\u001b[0m\u001b[0m\n",
            "\u001b[0;31mNameError\u001b[0m: name 'json_tags' is not defined"
          ]
        }
      ]
    },
    {
      "cell_type": "markdown",
      "source": [
        "**Save to Google Sheets**\n",
        "\n",
        "The will save as a GSheet in your Google Drive with the title of \"GTM Tags for GTM-CONTAINERID.\" It will take a few minutes for the data to fully populate in the sheet so be patient."
      ],
      "metadata": {
        "id": "hYzXGtEVNZS0"
      }
    },
    {
      "cell_type": "code",
      "source": [
        "from gspread_dataframe import set_with_dataframe\n",
        "\n",
        "ss = gc.open_by_url(spreadsheet)\n",
        "ws = ss.worksheet(tag_worksheet)\n",
        "\n",
        "#delete existing data\n",
        "ws.clear()\n",
        "set_with_dataframe(ws, tag_data, row=header_rows )\n",
        "#restore the header text\n",
        "ws.update('B3', 'Tags')"
      ],
      "metadata": {
        "id": "zF7SsjXXv5Gl",
        "colab": {
          "base_uri": "https://localhost:8080/",
          "height": 243
        },
        "outputId": "b8b0b97c-6075-47d1-e50b-e21ab8837777"
      },
      "execution_count": null,
      "outputs": [
        {
          "output_type": "error",
          "ename": "NameError",
          "evalue": "ignored",
          "traceback": [
            "\u001b[0;31m---------------------------------------------------------------------------\u001b[0m",
            "\u001b[0;31mNameError\u001b[0m                                 Traceback (most recent call last)",
            "\u001b[0;32m<ipython-input-2-fa789fde6f61>\u001b[0m in \u001b[0;36m<cell line: 3>\u001b[0;34m()\u001b[0m\n\u001b[1;32m      1\u001b[0m \u001b[0;32mfrom\u001b[0m \u001b[0mgspread_dataframe\u001b[0m \u001b[0;32mimport\u001b[0m \u001b[0mset_with_dataframe\u001b[0m\u001b[0;34m\u001b[0m\u001b[0;34m\u001b[0m\u001b[0m\n\u001b[1;32m      2\u001b[0m \u001b[0;34m\u001b[0m\u001b[0m\n\u001b[0;32m----> 3\u001b[0;31m \u001b[0mss\u001b[0m \u001b[0;34m=\u001b[0m \u001b[0mgc\u001b[0m\u001b[0;34m.\u001b[0m\u001b[0mopen_by_url\u001b[0m\u001b[0;34m(\u001b[0m\u001b[0mspreadsheet\u001b[0m\u001b[0;34m)\u001b[0m\u001b[0;34m\u001b[0m\u001b[0;34m\u001b[0m\u001b[0m\n\u001b[0m\u001b[1;32m      4\u001b[0m \u001b[0mws\u001b[0m \u001b[0;34m=\u001b[0m \u001b[0mss\u001b[0m\u001b[0;34m.\u001b[0m\u001b[0mworksheet\u001b[0m\u001b[0;34m(\u001b[0m\u001b[0mtag_worksheet\u001b[0m\u001b[0;34m)\u001b[0m\u001b[0;34m\u001b[0m\u001b[0;34m\u001b[0m\u001b[0m\n\u001b[1;32m      5\u001b[0m \u001b[0;34m\u001b[0m\u001b[0m\n",
            "\u001b[0;31mNameError\u001b[0m: name 'gc' is not defined"
          ]
        }
      ]
    },
    {
      "cell_type": "markdown",
      "source": [
        "**Parse the Triggers**\n",
        "\n",
        "Since the JSON export maps tags to triggers but not the reverse, we loop through all of the triggers and then for each trigger loop through all of the tags to get the tag names."
      ],
      "metadata": {
        "id": "7fLjuLkPbqC6"
      }
    },
    {
      "cell_type": "code",
      "source": [
        "triggers = []\n",
        "\n",
        "for trigger in json_triggers:\n",
        "  row = {}\n",
        "  row['ID'] = str(trigger['triggerId'])\n",
        "  row['Name'] = str(trigger['name'])\n",
        "  row['Type'] =  str(trigger['type'])\n",
        "  if 'filter' in trigger:\n",
        "    row['Filter'] = str(trigger['filter'])\n",
        "  else:\n",
        "    row['Filter'] = 'none'\n",
        "  if 'parentFolderId' in trigger:\n",
        "    row['Parent Folder'] = folder_lookup(trigger['parentFolderId'])\n",
        "  else: \n",
        "    row['Parent Folder'] = 'none'\n",
        "  row['Firing Tags'] = list_tags_matching_trigger('firingTriggerId',trigger['triggerId']  );\n",
        "  row['Blocking Tags'] = list_tags_matching_trigger('blockingTriggerId',trigger['triggerId']  );\n",
        "  row['Last Edit'] = timestamp_from_fingerprint(trigger['fingerprint'])\n",
        "  row['Action'] = 'Review' # resetting the Action column because tags unlikely to match\n",
        "  row['Container'] = trigger['containerId']\n",
        "  if 'notes' in trigger:\n",
        "    row['Description'] = trigger['notes']\n",
        "  else:\n",
        "    row['Description'] = ''\n",
        "\n",
        "  triggers.append(row)\n",
        "\n",
        "trigger_data = pd.DataFrame(triggers)\n",
        "trigger_data.head()"
      ],
      "metadata": {
        "colab": {
          "base_uri": "https://localhost:8080/",
          "height": 243
        },
        "id": "Rc3weUy3bs4K",
        "outputId": "dbea724c-8ac2-4f82-f2cb-deb66a330ea8"
      },
      "execution_count": null,
      "outputs": [
        {
          "output_type": "error",
          "ename": "NameError",
          "evalue": "ignored",
          "traceback": [
            "\u001b[0;31m---------------------------------------------------------------------------\u001b[0m",
            "\u001b[0;31mNameError\u001b[0m                                 Traceback (most recent call last)",
            "\u001b[0;32m<ipython-input-3-7b243ba6fde1>\u001b[0m in \u001b[0;36m<cell line: 3>\u001b[0;34m()\u001b[0m\n\u001b[1;32m      1\u001b[0m \u001b[0mtriggers\u001b[0m \u001b[0;34m=\u001b[0m \u001b[0;34m[\u001b[0m\u001b[0;34m]\u001b[0m\u001b[0;34m\u001b[0m\u001b[0;34m\u001b[0m\u001b[0m\n\u001b[1;32m      2\u001b[0m \u001b[0;34m\u001b[0m\u001b[0m\n\u001b[0;32m----> 3\u001b[0;31m \u001b[0;32mfor\u001b[0m \u001b[0mtrigger\u001b[0m \u001b[0;32min\u001b[0m \u001b[0mjson_triggers\u001b[0m\u001b[0;34m:\u001b[0m\u001b[0;34m\u001b[0m\u001b[0;34m\u001b[0m\u001b[0m\n\u001b[0m\u001b[1;32m      4\u001b[0m   \u001b[0mrow\u001b[0m \u001b[0;34m=\u001b[0m \u001b[0;34m{\u001b[0m\u001b[0;34m}\u001b[0m\u001b[0;34m\u001b[0m\u001b[0;34m\u001b[0m\u001b[0m\n\u001b[1;32m      5\u001b[0m   \u001b[0mrow\u001b[0m\u001b[0;34m[\u001b[0m\u001b[0;34m'ID'\u001b[0m\u001b[0;34m]\u001b[0m \u001b[0;34m=\u001b[0m \u001b[0mstr\u001b[0m\u001b[0;34m(\u001b[0m\u001b[0mtrigger\u001b[0m\u001b[0;34m[\u001b[0m\u001b[0;34m'triggerId'\u001b[0m\u001b[0;34m]\u001b[0m\u001b[0;34m)\u001b[0m\u001b[0;34m\u001b[0m\u001b[0;34m\u001b[0m\u001b[0m\n",
            "\u001b[0;31mNameError\u001b[0m: name 'json_triggers' is not defined"
          ]
        }
      ]
    },
    {
      "cell_type": "markdown",
      "source": [
        "Save to Google Sheets"
      ],
      "metadata": {
        "id": "8plpJk-ybuOt"
      }
    },
    {
      "cell_type": "code",
      "source": [
        "ws = ss.worksheet(trigger_worksheet)\n",
        "\n",
        "#delete existing data\n",
        "ws.clear()\n",
        "set_with_dataframe(ws, trigger_data, row=header_rows )\n",
        "#restore the header text\n",
        "ws.update('B3', 'Triggers')"
      ],
      "metadata": {
        "colab": {
          "base_uri": "https://localhost:8080/",
          "height": 243
        },
        "id": "Y5Smi89lbw4r",
        "outputId": "3db6c31e-186b-4304-c839-ad923a1b4bcf"
      },
      "execution_count": null,
      "outputs": [
        {
          "output_type": "error",
          "ename": "NameError",
          "evalue": "ignored",
          "traceback": [
            "\u001b[0;31m---------------------------------------------------------------------------\u001b[0m",
            "\u001b[0;31mNameError\u001b[0m                                 Traceback (most recent call last)",
            "\u001b[0;32m<ipython-input-4-6049338199d5>\u001b[0m in \u001b[0;36m<cell line: 1>\u001b[0;34m()\u001b[0m\n\u001b[0;32m----> 1\u001b[0;31m \u001b[0mws\u001b[0m \u001b[0;34m=\u001b[0m \u001b[0mss\u001b[0m\u001b[0;34m.\u001b[0m\u001b[0mworksheet\u001b[0m\u001b[0;34m(\u001b[0m\u001b[0mtrigger_worksheet\u001b[0m\u001b[0;34m)\u001b[0m\u001b[0;34m\u001b[0m\u001b[0;34m\u001b[0m\u001b[0m\n\u001b[0m\u001b[1;32m      2\u001b[0m \u001b[0;34m\u001b[0m\u001b[0m\n\u001b[1;32m      3\u001b[0m \u001b[0;31m#delete existing data\u001b[0m\u001b[0;34m\u001b[0m\u001b[0;34m\u001b[0m\u001b[0m\n\u001b[1;32m      4\u001b[0m \u001b[0mws\u001b[0m\u001b[0;34m.\u001b[0m\u001b[0mclear\u001b[0m\u001b[0;34m(\u001b[0m\u001b[0;34m)\u001b[0m\u001b[0;34m\u001b[0m\u001b[0;34m\u001b[0m\u001b[0m\n\u001b[1;32m      5\u001b[0m \u001b[0mset_with_dataframe\u001b[0m\u001b[0;34m(\u001b[0m\u001b[0mws\u001b[0m\u001b[0;34m,\u001b[0m \u001b[0mtrigger_data\u001b[0m\u001b[0;34m,\u001b[0m \u001b[0mrow\u001b[0m\u001b[0;34m=\u001b[0m\u001b[0mheader_rows\u001b[0m \u001b[0;34m)\u001b[0m\u001b[0;34m\u001b[0m\u001b[0;34m\u001b[0m\u001b[0m\n",
            "\u001b[0;31mNameError\u001b[0m: name 'ss' is not defined"
          ]
        }
      ]
    },
    {
      "cell_type": "markdown",
      "source": [
        "Parse the Variables"
      ],
      "metadata": {
        "id": "bK16LuzjbxL4"
      }
    },
    {
      "cell_type": "code",
      "source": [
        "variables = []\n",
        "\n",
        "\n",
        "for var in json_variables:\n",
        "  row = {}\n",
        "  row['ID'] = str(var['variableId'])\n",
        "  row['Name'] = str(var['name'])\n",
        "  row['Type'] =  str(var['type'])\n",
        "  if 'parentFolderId' in var:\n",
        "    row['Parent Folder'] = folder_lookup(var['parentFolderId'])\n",
        "  else: \n",
        "    row['Parent Folder'] = 'none'\n",
        "  row['Last Edit'] = timestamp_from_fingerprint(var['fingerprint'])\n",
        "  row['Action'] = 'Review' # resetting the Action column because tags unlikely to match\n",
        "  if 'notes' in var:\n",
        "    row['Description'] = var['notes']\n",
        "  else:\n",
        "    row['Description'] = \"\"\n",
        "\n",
        "  variables.append(row)\n",
        "\n",
        "variable_data = pd.DataFrame(variables)\n",
        "variable_data.head()"
      ],
      "metadata": {
        "id": "01Sv-aA6bywo",
        "colab": {
          "base_uri": "https://localhost:8080/",
          "height": 243
        },
        "outputId": "173369a2-666d-4cb5-8b9c-f0681a9d4a14"
      },
      "execution_count": null,
      "outputs": [
        {
          "output_type": "error",
          "ename": "NameError",
          "evalue": "ignored",
          "traceback": [
            "\u001b[0;31m---------------------------------------------------------------------------\u001b[0m",
            "\u001b[0;31mNameError\u001b[0m                                 Traceback (most recent call last)",
            "\u001b[0;32m<ipython-input-5-f3a8bcf68c99>\u001b[0m in \u001b[0;36m<cell line: 4>\u001b[0;34m()\u001b[0m\n\u001b[1;32m      2\u001b[0m \u001b[0;34m\u001b[0m\u001b[0m\n\u001b[1;32m      3\u001b[0m \u001b[0;34m\u001b[0m\u001b[0m\n\u001b[0;32m----> 4\u001b[0;31m \u001b[0;32mfor\u001b[0m \u001b[0mvar\u001b[0m \u001b[0;32min\u001b[0m \u001b[0mjson_variables\u001b[0m\u001b[0;34m:\u001b[0m\u001b[0;34m\u001b[0m\u001b[0;34m\u001b[0m\u001b[0m\n\u001b[0m\u001b[1;32m      5\u001b[0m   \u001b[0mrow\u001b[0m \u001b[0;34m=\u001b[0m \u001b[0;34m{\u001b[0m\u001b[0;34m}\u001b[0m\u001b[0;34m\u001b[0m\u001b[0;34m\u001b[0m\u001b[0m\n\u001b[1;32m      6\u001b[0m   \u001b[0mrow\u001b[0m\u001b[0;34m[\u001b[0m\u001b[0;34m'ID'\u001b[0m\u001b[0;34m]\u001b[0m \u001b[0;34m=\u001b[0m \u001b[0mstr\u001b[0m\u001b[0;34m(\u001b[0m\u001b[0mvar\u001b[0m\u001b[0;34m[\u001b[0m\u001b[0;34m'variableId'\u001b[0m\u001b[0;34m]\u001b[0m\u001b[0;34m)\u001b[0m\u001b[0;34m\u001b[0m\u001b[0;34m\u001b[0m\u001b[0m\n",
            "\u001b[0;31mNameError\u001b[0m: name 'json_variables' is not defined"
          ]
        }
      ]
    },
    {
      "cell_type": "markdown",
      "source": [
        "Save to Google Sheets"
      ],
      "metadata": {
        "id": "afSqkOkTbzRC"
      }
    },
    {
      "cell_type": "code",
      "source": [
        "ws = ss.worksheet(variable_worksheet)\n",
        "\n",
        "#delete existing data\n",
        "ws.clear()\n",
        "set_with_dataframe(ws, variable_data, row=header_rows )\n",
        "#restore the header text\n",
        "ws.update('B3', 'Variables')"
      ],
      "metadata": {
        "id": "I20nAGv_b0_5",
        "colab": {
          "base_uri": "https://localhost:8080/",
          "height": 243
        },
        "outputId": "e2485f95-aedc-4b27-98d3-12d317f7d220"
      },
      "execution_count": null,
      "outputs": [
        {
          "output_type": "error",
          "ename": "NameError",
          "evalue": "ignored",
          "traceback": [
            "\u001b[0;31m---------------------------------------------------------------------------\u001b[0m",
            "\u001b[0;31mNameError\u001b[0m                                 Traceback (most recent call last)",
            "\u001b[0;32m<ipython-input-6-37acda9ad66b>\u001b[0m in \u001b[0;36m<cell line: 1>\u001b[0;34m()\u001b[0m\n\u001b[0;32m----> 1\u001b[0;31m \u001b[0mws\u001b[0m \u001b[0;34m=\u001b[0m \u001b[0mss\u001b[0m\u001b[0;34m.\u001b[0m\u001b[0mworksheet\u001b[0m\u001b[0;34m(\u001b[0m\u001b[0mvariable_worksheet\u001b[0m\u001b[0;34m)\u001b[0m\u001b[0;34m\u001b[0m\u001b[0;34m\u001b[0m\u001b[0m\n\u001b[0m\u001b[1;32m      2\u001b[0m \u001b[0;34m\u001b[0m\u001b[0m\n\u001b[1;32m      3\u001b[0m \u001b[0;31m#delete existing data\u001b[0m\u001b[0;34m\u001b[0m\u001b[0;34m\u001b[0m\u001b[0m\n\u001b[1;32m      4\u001b[0m \u001b[0mws\u001b[0m\u001b[0;34m.\u001b[0m\u001b[0mclear\u001b[0m\u001b[0;34m(\u001b[0m\u001b[0;34m)\u001b[0m\u001b[0;34m\u001b[0m\u001b[0;34m\u001b[0m\u001b[0m\n\u001b[1;32m      5\u001b[0m \u001b[0mset_with_dataframe\u001b[0m\u001b[0;34m(\u001b[0m\u001b[0mws\u001b[0m\u001b[0;34m,\u001b[0m \u001b[0mvariable_data\u001b[0m\u001b[0;34m,\u001b[0m \u001b[0mrow\u001b[0m\u001b[0;34m=\u001b[0m\u001b[0mheader_rows\u001b[0m \u001b[0;34m)\u001b[0m\u001b[0;34m\u001b[0m\u001b[0;34m\u001b[0m\u001b[0m\n",
            "\u001b[0;31mNameError\u001b[0m: name 'ss' is not defined"
          ]
        }
      ]
    }
  ]
}